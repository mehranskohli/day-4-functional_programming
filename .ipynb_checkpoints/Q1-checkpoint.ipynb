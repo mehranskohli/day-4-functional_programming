{
 "cells": [
  {
   "cell_type": "markdown",
   "metadata": {},
   "source": [
    "In the cell below, create a Python function that wraps your previous solution for the Bag of Words lab.\n",
    "\n",
    "Requirements:\n",
    "\n",
    "1. Your function should accept the following parameters:\n",
    "    * `docs` [REQUIRED] - array of document paths.\n",
    "    * `stop_words` [OPTIONAL] - array of stop words. The default value is an empty array.\n",
    "\n",
    "1. Your function should return a Python object that contains the following:\n",
    "    * `bag_of_words` - array of strings of normalized unique words in the corpus.\n",
    "    * `term_freq` - array of the term-frequency vectors."
   ]
  },
  {
   "cell_type": "code",
   "execution_count": 2,
   "metadata": {},
   "outputs": [
    {
     "ename": "FileNotFoundError",
     "evalue": "[Errno 2] No such file or directory: '../your-code'",
     "output_type": "error",
     "traceback": [
      "\u001b[0;31m---------------------------------------------------------------------------\u001b[0m",
      "\u001b[0;31mFileNotFoundError\u001b[0m                         Traceback (most recent call last)",
      "\u001b[0;32m<ipython-input-2-6806735b8583>\u001b[0m in \u001b[0;36m<module>\u001b[0;34m()\u001b[0m\n\u001b[1;32m      7\u001b[0m \u001b[0;31m#Generic File List\u001b[0m\u001b[0;34m\u001b[0m\u001b[0;34m\u001b[0m\u001b[0m\n\u001b[1;32m      8\u001b[0m \u001b[0;34m\u001b[0m\u001b[0m\n\u001b[0;32m----> 9\u001b[0;31m \u001b[0mfile_list\u001b[0m \u001b[0;34m=\u001b[0m \u001b[0;34m[\u001b[0m\u001b[0mf\u001b[0m \u001b[0;32mfor\u001b[0m \u001b[0mf\u001b[0m \u001b[0;32min\u001b[0m \u001b[0mos\u001b[0m\u001b[0;34m.\u001b[0m\u001b[0mlistdir\u001b[0m\u001b[0;34m(\u001b[0m\u001b[0;34m'../your-code'\u001b[0m\u001b[0;34m)\u001b[0m \u001b[0;32mif\u001b[0m \u001b[0mf\u001b[0m\u001b[0;34m.\u001b[0m\u001b[0mendswith\u001b[0m\u001b[0;34m(\u001b[0m\u001b[0;34m'.txt'\u001b[0m\u001b[0;34m)\u001b[0m\u001b[0;34m]\u001b[0m\u001b[0;34m\u001b[0m\u001b[0m\n\u001b[0m\u001b[1;32m     10\u001b[0m \u001b[0;34m\u001b[0m\u001b[0m\n",
      "\u001b[0;31mFileNotFoundError\u001b[0m: [Errno 2] No such file or directory: '../your-code'"
     ]
    }
   ],
   "source": [
    "# Import required libraries\n",
    "import os\n",
    "import re\n",
    "import pandas as pd\n",
    "docs = ['doc1.txt', 'doc2.txt', 'doc3.txt']\n",
    "\n",
    "'''\n",
    "L.S. Sadly, your files are not included in the directory, which means that I cannot check the code. Your function code looks good, but \n",
    "I cannot run. However, there is also an unfinished for-loop. Either delete it or finish it. \n",
    "'''\n",
    "\n",
    "\n",
    "#Generic File List\n",
    "\n",
    "file_list = [f for f in os.listdir('../your-code') if f.endswith('.txt')]\n",
    "\n",
    "file_list = os.listdir() :\n",
    "    \n",
    "for \n",
    "\n",
    "os.getcwd\n",
    "\n",
    "\n",
    "# Define function\n",
    "\n",
    "\n",
    "\n",
    "def get_bow_from_docs(docs):\n",
    "                      #stop_words=[]):\n",
    "    \n",
    "    # In the function, first define the variables you will use such as `corpus`, `bag_of_words`, and `term_freq`.\n",
    "    \n",
    "   \n",
    "  #  \"\"\"\n",
    "  #  Loop `docs` and read the content of each doc into a string in `corpus`.\n",
    "  #  Remember to convert the doc content to lowercases and remove punctuation.\n",
    "  #  \"\"\"\n",
    "\n",
    "\n",
    "\n",
    "    corpus0= []\n",
    "    corpus= []\n",
    "    bag_of_words= []\n",
    "    term_freq= []\n",
    "    \n",
    "    os.getcwd()\n",
    "\n",
    "    for f in file_list:\n",
    "        with open(f, \"r\") as file:\n",
    "            line = file.read()\n",
    "            corpus0.append(line)\n",
    "\n",
    "    for i in corpus0:\n",
    "        strip=i.rstrip(\".\")\n",
    "        corpus.append(strip.lower())\n",
    "    \n",
    "    \n",
    "    #\"\"\"\n",
    "  #  Loop `corpus`. Append the terms in each doc into the `bag_of_words` array. The terms in `bag_of_words` \n",
    "  #  should be unique which means before adding each term you need to check if it's already added to the array.\n",
    "  #  In addition, check if each term is in the `stop_words` array. Only append the term to `bag_of_words`\n",
    "   # if it is not a stop word.\n",
    "  #  \"\"\"\n",
    "\n",
    "    for x in corpus:\n",
    "        words= re.findall('[a-z]+',x)\n",
    "        for y in words:\n",
    "            if y not in bag_of_words:\n",
    "                bag_of_words.append(y)\n",
    "    \n",
    "\n",
    "    \n",
    "    \n",
    "  #  \"\"\"\n",
    "  #  Loop `corpus` again. For each doc string, count the number of occurrences of each term in `bag_of_words`. \n",
    "   # Create an array for each doc's term frequency and append it to `term_freq`.\n",
    "  #  \"\"\"\n",
    "  \n",
    "    \n",
    "    \n",
    "    # Now return your output as an object\n",
    "    return {\"bag_of_words\": bag_of_words}\n",
    "         #\"term_freq\": term_freq}\n",
    "\n",
    "print(file_list)   \n",
    "print(get_bow_from_docs(docs))\n"
   ]
  },
  {
   "cell_type": "markdown",
   "metadata": {},
   "source": [
    "Test your function without stop words. You should see the output like below:\n",
    "\n",
    "```{'bag_of_words': ['ironhack', 'is', 'cool', 'i', 'love', 'am', 'a', 'student', 'at'], 'term_freq': [[1, 1, 1, 0, 0, 0, 0, 0, 0], [1, 0, 0, 1, 1, 0, 0, 0, 0], [1, 0, 0, 1, 0, 1, 1, 1, 1]]}```"
   ]
  },
  {
   "cell_type": "code",
   "execution_count": 3,
   "metadata": {},
   "outputs": [
    {
     "ename": "NameError",
     "evalue": "name 'get_bow_from_docs' is not defined",
     "output_type": "error",
     "traceback": [
      "\u001b[0;31m---------------------------------------------------------------------------\u001b[0m",
      "\u001b[0;31mNameError\u001b[0m                                 Traceback (most recent call last)",
      "\u001b[0;32m<ipython-input-3-58124f03d423>\u001b[0m in \u001b[0;36m<module>\u001b[0;34m()\u001b[0m\n\u001b[1;32m      3\u001b[0m \u001b[0;34m\u001b[0m\u001b[0m\n\u001b[1;32m      4\u001b[0m \u001b[0;31m# Obtain BoW from your function\u001b[0m\u001b[0;34m\u001b[0m\u001b[0;34m\u001b[0m\u001b[0m\n\u001b[0;32m----> 5\u001b[0;31m \u001b[0mbow\u001b[0m \u001b[0;34m=\u001b[0m \u001b[0mget_bow_from_docs\u001b[0m\u001b[0;34m(\u001b[0m\u001b[0mdocs\u001b[0m\u001b[0;34m)\u001b[0m\u001b[0;34m\u001b[0m\u001b[0m\n\u001b[0m\u001b[1;32m      6\u001b[0m \u001b[0;34m\u001b[0m\u001b[0m\n\u001b[1;32m      7\u001b[0m \u001b[0;31m# Print BoW\u001b[0m\u001b[0;34m\u001b[0m\u001b[0;34m\u001b[0m\u001b[0m\n",
      "\u001b[0;31mNameError\u001b[0m: name 'get_bow_from_docs' is not defined"
     ]
    }
   ],
   "source": [
    "# Define doc paths array\n",
    "\n",
    "'''\n",
    "L.S. Does not work, because the function above does not run. \n",
    "'''\n",
    "\n",
    "docs = []\n",
    "\n",
    "# Obtain BoW from your function\n",
    "bow = get_bow_from_docs(docs)\n",
    "\n",
    "# Print BoW\n",
    "print(bow)"
   ]
  },
  {
   "cell_type": "markdown",
   "metadata": {},
   "source": [
    "If your attempt above is successful, nice work done!\n",
    "\n",
    "Now test your function again with the stop words. In the previous lab we defined the stop words in a large array. In this lab, we'll import the stop words from Scikit-Learn."
   ]
  },
  {
   "cell_type": "code",
   "execution_count": 42,
   "metadata": {},
   "outputs": [
    {
     "name": "stdout",
     "output_type": "stream",
     "text": [
      "frozenset({'de', 'put', 'one', 'whoever', 'few', 'my', 'via', 'show', 'whose', 'eleven', 'call', 'made', 'another', 'everyone', 'yourself', 'nothing', 'becomes', 'many', 'please', 'your', 'others', 'becoming', 'she', 'thin', 'inc', 'anything', 'an', 'last', 'you', 'by', 'among', 'although', 'namely', 'have', 'six', 'indeed', 'am', 'throughout', 'see', 'afterwards', 'mostly', 'describe', 'ie', 'part', 'fill', 'against', 'former', 'whole', 'beforehand', 'if', 'same', 'whereas', 'every', 'well', 'around', 'meanwhile', 'myself', 'own', 'upon', 'was', 'except', 'found', 'though', 'however', 'amount', 'of', 'never', 'any', 'those', 'itself', 'whenever', 'name', 'each', 'ours', 'seem', 'due', 'now', 'has', 'only', 'over', 'since', 'could', 'amongst', 'none', 'the', 'give', 'wherever', 'mill', 'thick', 'amoungst', 'other', 'eg', 'herself', 'to', 'on', 'no', 'sometime', 'side', 'therefore', 'can', 'alone', 'move', 'i', 'her', 'third', 'as', 'what', 'once', 'empty', 'onto', 'noone', 'when', 'keep', 'everything', 'may', 'thus', 'or', 'next', 'whence', 'sometimes', 'during', 'even', 'might', 'be', 'under', 'we', 'least', 'whom', 'nor', 'rather', 'twelve', 'which', 'towards', 'across', 'such', 'perhaps', 'it', 'will', 'anywhere', 'must', 'sixty', 'mine', 'yet', 'get', 'some', 'yourselves', 'all', 'again', 'thereupon', 'much', 'latterly', 'besides', 'become', 'thereafter', 'behind', 'un', 'wherein', 'therein', 'three', 'cannot', 'our', 'fifty', 'top', 'formerly', 'hundred', 'and', 'go', 'five', 'more', 'themselves', 'whatever', 'otherwise', 'not', 'is', 'should', 'nevertheless', 'ourselves', 'that', 'fire', 'down', 'toward', 'between', 'ever', 'etc', 'would', 'into', 'who', 'take', 'its', 'something', 'before', 'together', 'serious', 'cant', 'interest', 'for', 'were', 'along', 'first', 'yours', 'through', 'enough', 'with', 'done', 'hereby', 'bill', 'already', 'until', 'nine', 'had', 'here', 'someone', 'very', 'forty', 'anyhow', 'he', 'nowhere', 'so', 'either', 'at', 'several', 'these', 'out', 'because', 'find', 'thru', 'four', 'off', 'everywhere', 'hers', 'less', 'whereafter', 'hence', 'most', 'whereupon', 'latter', 'back', 'seems', 'beside', 'him', 'two', 'been', 'a', 'below', 'their', 'bottom', 'cry', 'whither', 'within', 'further', 'them', 'where', 'himself', 'nobody', 'then', 'co', 'anyway', 'hereafter', 'somewhere', 'always', 'without', 'beyond', 'ltd', 'from', 'elsewhere', 'being', 'up', 'neither', 'why', 'whereby', 'they', 'us', 'full', 'herein', 'became', 'about', 'per', 'anyone', 'almost', 'system', 'thereby', 'do', 'than', 'somehow', 'there', 're', 'seemed', 'this', 'after', 'eight', 'often', 'me', 'hasnt', 'are', 'while', 'hereupon', 'but', 'also', 'con', 'in', 'thence', 'twenty', 'detail', 'still', 'his', 'seeming', 'sincere', 'front', 'ten', 'above', 'both', 'couldnt', 'else', 'too', 'fifteen', 'how', 'moreover', 'whether'})\n"
     ]
    }
   ],
   "source": [
    "from sklearn.feature_extraction import stop_words\n",
    "print(stop_words.ENGLISH_STOP_WORDS)"
   ]
  },
  {
   "cell_type": "markdown",
   "metadata": {},
   "source": [
    "You should have seen a large list of words that looks like:\n",
    "\n",
    "```frozenset({'across', 'mine', 'cannot', ...})```\n",
    "\n",
    "`frozenset` is a type of Python object that is immutable. In this lab you can use it just like an array without conversion."
   ]
  },
  {
   "cell_type": "markdown",
   "metadata": {},
   "source": [
    "Next, test your function with supplying `stop_words.ENGLISH_STOP_WORDS` as the second parameter."
   ]
  },
  {
   "cell_type": "code",
   "execution_count": 43,
   "metadata": {},
   "outputs": [
    {
     "ename": "TypeError",
     "evalue": "get_bow_from_docs() takes 1 positional argument but 2 were given",
     "output_type": "error",
     "traceback": [
      "\u001b[0;31m---------------------------------------------------------------------------\u001b[0m",
      "\u001b[0;31mTypeError\u001b[0m                                 Traceback (most recent call last)",
      "\u001b[0;32m<ipython-input-43-158d5d02aaa3>\u001b[0m in \u001b[0;36m<module>\u001b[0;34m\u001b[0m\n\u001b[0;32m----> 1\u001b[0;31m \u001b[0mbow\u001b[0m \u001b[0;34m=\u001b[0m \u001b[0mget_bow_from_docs\u001b[0m\u001b[0;34m(\u001b[0m\u001b[0mbow\u001b[0m\u001b[0;34m,\u001b[0m \u001b[0mstop_words\u001b[0m\u001b[0;34m.\u001b[0m\u001b[0mENGLISH_STOP_WORDS\u001b[0m\u001b[0;34m)\u001b[0m\u001b[0;34m\u001b[0m\u001b[0;34m\u001b[0m\u001b[0m\n\u001b[0m\u001b[1;32m      2\u001b[0m \u001b[0;34m\u001b[0m\u001b[0m\n\u001b[1;32m      3\u001b[0m \u001b[0mprint\u001b[0m\u001b[0;34m(\u001b[0m\u001b[0mbow\u001b[0m\u001b[0;34m)\u001b[0m\u001b[0;34m\u001b[0m\u001b[0;34m\u001b[0m\u001b[0m\n",
      "\u001b[0;31mTypeError\u001b[0m: get_bow_from_docs() takes 1 positional argument but 2 were given"
     ]
    }
   ],
   "source": [
    "bow = get_bow_from_docs(bow, stop_words.ENGLISH_STOP_WORDS)\n",
    "\n",
    "print(bow)"
   ]
  },
  {
   "cell_type": "markdown",
   "metadata": {},
   "source": [
    "You should have seen:\n",
    "\n",
    "```{'bag_of_words': ['ironhack', 'cool', 'love', 'student'], 'term_freq': [[1, 1, 0, 0], [1, 0, 1, 0], [1, 0, 0, 1]]}```"
   ]
  },
  {
   "cell_type": "code",
   "execution_count": null,
   "metadata": {},
   "outputs": [],
   "source": []
  }
 ],
 "metadata": {
  "kernelspec": {
   "display_name": "Python 3",
   "language": "python",
   "name": "python3"
  },
  "language_info": {
   "codemirror_mode": {
    "name": "ipython",
    "version": 3
   },
   "file_extension": ".py",
   "mimetype": "text/x-python",
   "name": "python",
   "nbconvert_exporter": "python",
   "pygments_lexer": "ipython3",
   "version": "3.6.4"
  }
 },
 "nbformat": 4,
 "nbformat_minor": 4
}
