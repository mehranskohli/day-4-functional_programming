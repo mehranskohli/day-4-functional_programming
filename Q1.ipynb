{
 "cells": [
  {
   "cell_type": "markdown",
   "metadata": {},
   "source": [
    "In the cell below, create a Python function that wraps your previous solution for the Bag of Words lab.\n",
    "\n",
    "Requirements:\n",
    "\n",
    "1. Your function should accept the following parameters:\n",
    "    * `docs` [REQUIRED] - array of document paths.\n",
    "    * `stop_words` [OPTIONAL] - array of stop words. The default value is an empty array.\n",
    "\n",
    "1. Your function should return a Python object that contains the following:\n",
    "    * `bag_of_words` - array of strings of normalized unique words in the corpus.\n",
    "    * `term_freq` - array of the term-frequency vectors."
   ]
  },
  {
   "cell_type": "code",
   "execution_count": 4,
   "metadata": {},
   "outputs": [],
   "source": [
    "import os\n",
    "import re\n",
    "import pandas as pd\n",
    "docs = ['doc1.txt', 'doc2.txt', 'doc3.txt']\n",
    "\n",
    "#Generic File List\n",
    "\n",
    "file_list = [f for f in os.listdir('../your-code') if f.endswith('.txt')]"
   ]
  },
  {
   "cell_type": "code",
   "execution_count": 5,
   "metadata": {},
   "outputs": [
    {
     "name": "stdout",
     "output_type": "stream",
     "text": [
      "['ironhack is cool', 'i am a student at ironhack', 'i love ironhack']\n",
      "['Ironhack is cool.', 'I am a student at Ironhack.', 'I love Ironhack.']\n"
     ]
    }
   ],
   "source": [
    "corpus0= []\n",
    "corpus= []\n",
    "bag_of_words= []\n",
    "term_freq= []\n",
    "\n",
    "os.getcwd()\n",
    "\n",
    "for f in file_list:\n",
    "    with open(f, \"r\") as file:\n",
    "        line = file.read()\n",
    "        corpus0.append(line)\n",
    "\n",
    "for i in corpus0:\n",
    "    strip=i.rstrip(\".\")\n",
    "    corpus.append(strip.lower())\n",
    "\n",
    "print(corpus)\n",
    "print(corpus0)"
   ]
  },
  {
   "cell_type": "code",
   "execution_count": 6,
   "metadata": {},
   "outputs": [
    {
     "name": "stdout",
     "output_type": "stream",
     "text": [
      "['ironhack', 'is', 'cool', 'i', 'am', 'a', 'student', 'at', 'love']\n"
     ]
    }
   ],
   "source": [
    " for x in corpus:\n",
    "        words= re.findall('[a-z]+',x)\n",
    "        for y in words:\n",
    "            if y not in bag_of_words:\n",
    "                bag_of_words.append(y)\n",
    "    \n",
    "print(bag_of_words)"
   ]
  },
  {
   "cell_type": "code",
   "execution_count": 7,
   "metadata": {},
   "outputs": [
    {
     "name": "stdout",
     "output_type": "stream",
     "text": [
      "[['ironhack', 'is', 'cool'], ['i', 'am', 'a', 'student', 'at', 'ironhack'], ['i', 'love', 'ironhack']]\n"
     ]
    }
   ],
   "source": [
    "corpuswords=[]\n",
    "\n",
    "for word in corpus:  \n",
    "    corpuswords.append(word.split())\n",
    "print(corpuswords)"
   ]
  },
  {
   "cell_type": "code",
   "execution_count": null,
   "metadata": {},
   "outputs": [],
   "source": []
  },
  {
   "cell_type": "code",
   "execution_count": 54,
   "metadata": {},
   "outputs": [],
   "source": [
    "term_freq = []\n",
    "\n",
    "\n",
    "for sentence in corpus:\n",
    "    x = re.findall('[a-z]+', sentence)\n",
    "    new_list = []\n",
    "    for word in bag_of_words:\n",
    "        if word in x: \n",
    "            new_list.append(1)\n",
    "        else: \n",
    "            new_list.append(0)\n",
    "    term_freq.append(new_list)\n",
    "  "
   ]
  },
  {
   "cell_type": "code",
   "execution_count": 57,
   "metadata": {},
   "outputs": [
    {
     "name": "stdout",
     "output_type": "stream",
     "text": [
      "bag_of_words: ['ironhack', 'is', 'cool', 'i', 'am', 'a', 'student', 'at', 'love']\n",
      "term_freq: [[1, 1, 1, 0, 0, 0, 0, 0, 0], [1, 0, 0, 1, 1, 1, 1, 1, 0], [1, 0, 0, 1, 0, 0, 0, 0, 1]]\n"
     ]
    }
   ],
   "source": [
    "print(\"bag_of_words:\", bag_of_words)\n",
    "print(\"term_freq:\", term_freq)\n",
    "        "
   ]
  },
  {
   "cell_type": "markdown",
   "metadata": {},
   "source": [
    "Test your function without stop words. You should see the output like below:\n",
    "\n",
    "```{'bag_of_words': ['ironhack', 'is', 'cool', 'i', 'love', 'am', 'a', 'student', 'at'], 'term_freq': [[1, 1, 1, 0, 0, 0, 0, 0, 0], [1, 0, 0, 1, 1, 0, 0, 0, 0], [1, 0, 0, 1, 0, 1, 1, 1, 1]]}```"
   ]
  },
  {
   "cell_type": "code",
   "execution_count": 64,
   "metadata": {},
   "outputs": [],
   "source": [
    "# Define doc paths array\n",
    "docs = []\n",
    "\n",
    "# Obtain BoW from your function\n",
    "\n",
    "# Print BoW\n"
   ]
  },
  {
   "cell_type": "markdown",
   "metadata": {},
   "source": [
    "If your attempt above is successful, nice work done!\n",
    "\n",
    "Now test your function again with the stop words. In the previous lab we defined the stop words in a large array. In this lab, we'll import the stop words from Scikit-Learn."
   ]
  },
  {
   "cell_type": "code",
   "execution_count": 65,
   "metadata": {},
   "outputs": [
    {
     "name": "stdout",
     "output_type": "stream",
     "text": [
      "frozenset({'whence', 'there', 'while', 'from', 'such', 'co', 'already', 'how', 'three', 'anyone', 'should', 'fifty', 'ever', 'hundred', 'seemed', 'himself', 'at', 'less', 'nobody', 'call', 'whither', 'has', 'full', 'find', 'whenever', 'with', 'except', 'together', 'perhaps', 'take', 'eleven', 'more', 'whether', 'another', 'across', 'via', 'upon', 'moreover', 'serious', 'many', 'her', 'towards', 'they', 'enough', 'describe', 'a', 'not', 'herself', 'well', 'was', 'someone', 'also', 'everywhere', 'them', 'forty', 'of', 'six', 'whom', 'un', 'fifteen', 'onto', 'seeming', 'mine', 'our', 'least', 'made', 'cry', 'themselves', 'him', 'somehow', 'along', 'up', 'each', 'hereafter', 'beforehand', 'an', 'twenty', 'may', 'that', 'thence', 'noone', 'among', 'now', 'always', 'have', 'you', 'ourselves', 'yourself', 'therefore', 'through', 'without', 'none', 'amongst', 'he', 'please', 'cannot', 'whoever', 're', 'nor', 'hasnt', 'once', 'and', 'sometime', 'this', 'were', 'never', 'on', 'few', 'almost', 'name', 'thru', 'are', 'against', 'beside', 'hers', 'too', 'no', 'indeed', 'rather', 'found', 'other', 'herein', 'she', 'as', 'becomes', 'two', 'around', 'wherein', 'therein', 'de', 'however', 'which', 'still', 'again', 'hence', 'would', 'nothing', 'all', 'ours', 'thereby', 'former', 'sometimes', 'the', 'very', 'cant', 'his', 'if', 'off', 'further', 'one', 'amoungst', 'might', 'am', 'could', 'seems', 'everyone', 'most', 'everything', 'here', 'namely', 'whereas', 'will', 'any', 'down', 'us', 'back', 'or', 'we', 'whole', 'become', 'over', 'alone', 'so', 'keep', 'afterwards', 'thereafter', 'nevertheless', 'its', 'because', 'whereby', 'although', 'besides', 'between', 'move', 'i', 'about', 'sixty', 'often', 'my', 'third', 'mill', 'thus', 'since', 'four', 'either', 'itself', 'bill', 'show', 'can', 'amount', 'several', 'own', 'front', 'otherwise', 'last', 'detail', 'must', 'who', 'these', 'meanwhile', 'throughout', 'hereby', 'thick', 'every', 'yours', 'being', 'same', 'became', 'done', 'go', 'your', 'anywhere', 'yet', 'others', 'why', 'some', 'becoming', 'it', 'system', 'give', 'out', 'put', 'nowhere', 'only', 'per', 'eight', 'see', 'been', 'due', 'then', 'do', 'next', 'much', 'seem', 'behind', 'be', 'yourselves', 'in', 'inc', 'when', 'interest', 'to', 'whereupon', 'toward', 'ltd', 'though', 'thin', 'during', 'within', 'than', 'their', 'formerly', 'latter', 'five', 'both', 'into', 'empty', 'after', 'for', 'what', 'whereafter', 'by', 'hereupon', 'twelve', 'below', 'but', 'beyond', 'ten', 'bottom', 'ie', 'under', 'fire', 'before', 'anyhow', 'side', 'those', 'wherever', 'is', 'top', 'couldnt', 'part', 'above', 'somewhere', 'something', 'etc', 'nine', 'even', 'mostly', 'me', 'get', 'whatever', 'latterly', 'thereupon', 'first', 'con', 'eg', 'neither', 'fill', 'anyway', 'elsewhere', 'else', 'until', 'whose', 'had', 'myself', 'where', 'anything', 'sincere'})\n"
     ]
    }
   ],
   "source": [
    "from sklearn.feature_extraction import stop_words\n",
    "print(stop_words.ENGLISH_STOP_WORDS)"
   ]
  },
  {
   "cell_type": "markdown",
   "metadata": {},
   "source": [
    "You should have seen a large list of words that looks like:\n",
    "\n",
    "```frozenset({'across', 'mine', 'cannot', ...})```\n",
    "\n",
    "`frozenset` is a type of Python object that is immutable. In this lab you can use it just like an array without conversion."
   ]
  },
  {
   "cell_type": "markdown",
   "metadata": {},
   "source": [
    "Next, test your function with supplying `stop_words.ENGLISH_STOP_WORDS` as the second parameter."
   ]
  },
  {
   "cell_type": "code",
   "execution_count": 66,
   "metadata": {},
   "outputs": [
    {
     "ename": "FileNotFoundError",
     "evalue": "[Errno 2] No such file or directory: 'corpus'",
     "output_type": "error",
     "traceback": [
      "\u001b[0;31m---------------------------------------------------------------------------\u001b[0m",
      "\u001b[0;31mFileNotFoundError\u001b[0m                         Traceback (most recent call last)",
      "\u001b[0;32m<ipython-input-66-158d5d02aaa3>\u001b[0m in \u001b[0;36m<module>\u001b[0;34m\u001b[0m\n\u001b[0;32m----> 1\u001b[0;31m \u001b[0mbow\u001b[0m \u001b[0;34m=\u001b[0m \u001b[0mget_bow_from_docs\u001b[0m\u001b[0;34m(\u001b[0m\u001b[0mbow\u001b[0m\u001b[0;34m,\u001b[0m \u001b[0mstop_words\u001b[0m\u001b[0;34m.\u001b[0m\u001b[0mENGLISH_STOP_WORDS\u001b[0m\u001b[0;34m)\u001b[0m\u001b[0;34m\u001b[0m\u001b[0;34m\u001b[0m\u001b[0m\n\u001b[0m\u001b[1;32m      2\u001b[0m \u001b[0;34m\u001b[0m\u001b[0m\n\u001b[1;32m      3\u001b[0m \u001b[0mprint\u001b[0m\u001b[0;34m(\u001b[0m\u001b[0mbow\u001b[0m\u001b[0;34m)\u001b[0m\u001b[0;34m\u001b[0m\u001b[0;34m\u001b[0m\u001b[0m\n",
      "\u001b[0;32m<ipython-input-19-61e3cff44f4f>\u001b[0m in \u001b[0;36mget_bow_from_docs\u001b[0;34m(docs, stop_words)\u001b[0m\n\u001b[1;32m      6\u001b[0m \u001b[0;34m\u001b[0m\u001b[0m\n\u001b[1;32m      7\u001b[0m     \u001b[0;32mfor\u001b[0m \u001b[0mfile\u001b[0m \u001b[0;32min\u001b[0m \u001b[0mdocs\u001b[0m\u001b[0;34m:\u001b[0m\u001b[0;34m\u001b[0m\u001b[0;34m\u001b[0m\u001b[0m\n\u001b[0;32m----> 8\u001b[0;31m         \u001b[0mx\u001b[0m \u001b[0;34m=\u001b[0m \u001b[0mopen\u001b[0m\u001b[0;34m(\u001b[0m\u001b[0mfile\u001b[0m\u001b[0;34m,\u001b[0m \u001b[0;34m\"r\"\u001b[0m\u001b[0;34m)\u001b[0m\u001b[0;34m.\u001b[0m\u001b[0mread\u001b[0m\u001b[0;34m(\u001b[0m\u001b[0;34m)\u001b[0m\u001b[0;34m\u001b[0m\u001b[0;34m\u001b[0m\u001b[0m\n\u001b[0m\u001b[1;32m      9\u001b[0m         \u001b[0mcorpus\u001b[0m\u001b[0;34m.\u001b[0m\u001b[0mappend\u001b[0m\u001b[0;34m(\u001b[0m\u001b[0mx\u001b[0m\u001b[0;34m)\u001b[0m \u001b[0;31m# record data from 3 txt files to list\u001b[0m\u001b[0;34m\u001b[0m\u001b[0;34m\u001b[0m\u001b[0m\n\u001b[1;32m     10\u001b[0m \u001b[0;34m\u001b[0m\u001b[0m\n",
      "\u001b[0;31mFileNotFoundError\u001b[0m: [Errno 2] No such file or directory: 'corpus'"
     ]
    }
   ],
   "source": [
    "bow = get_bow_from_docs(bow, stop_words.ENGLISH_STOP_WORDS)\n",
    "\n",
    "print(bow)"
   ]
  },
  {
   "cell_type": "markdown",
   "metadata": {},
   "source": [
    "You should have seen:\n",
    "\n",
    "```{'bag_of_words': ['ironhack', 'cool', 'love', 'student'], 'term_freq': [[1, 1, 0, 0], [1, 0, 1, 0], [1, 0, 0, 1]]}```"
   ]
  },
  {
   "cell_type": "code",
   "execution_count": null,
   "metadata": {},
   "outputs": [],
   "source": []
  }
 ],
 "metadata": {
  "kernelspec": {
   "display_name": "Python 3",
   "language": "python",
   "name": "python3"
  },
  "language_info": {
   "codemirror_mode": {
    "name": "ipython",
    "version": 3
   },
   "file_extension": ".py",
   "mimetype": "text/x-python",
   "name": "python",
   "nbconvert_exporter": "python",
   "pygments_lexer": "ipython3",
   "version": "3.7.3"
  }
 },
 "nbformat": 4,
 "nbformat_minor": 4
}
